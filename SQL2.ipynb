{
 "cells": [
  {
   "cell_type": "code",
   "execution_count": 99,
   "metadata": {},
   "outputs": [],
   "source": [
    "import numpy as np\n",
    "import pandas as pd\n",
    "import sqlite3\n",
    "from pandasql import sqldf\n",
    "\n",
    "pysqldf = lambda q: sqldf(q, globals())\n",
    "\n",
    "sqladb=pd.read_csv('https://archive.ics.uci.edu/ml/machine-learning-databases/adult/adult.data', header=None)\n",
    "\n",
    "sqladb.columns=['age', 'workclass', 'fnlwgt', 'education', 'education_num', 'marital_status', 'occupation', 'relationship', 'race', 'sex', 'capital_gain', 'capital_loss', 'hours_per_week', 'native_country', '-']"
   ]
  },
  {
   "cell_type": "code",
   "execution_count": 106,
   "metadata": {},
   "outputs": [],
   "source": [
    "connection=sqlite3.connect(r\"database_sample_test.db\")\n",
    "cursor = connection.cursor()"
   ]
  },
  {
   "cell_type": "code",
   "execution_count": 102,
   "metadata": {},
   "outputs": [
    {
     "data": {
      "text/plain": [
       "<sqlite3.Cursor at 0x18ce77aec00>"
      ]
     },
     "execution_count": 102,
     "metadata": {},
     "output_type": "execute_result"
    }
   ],
   "source": [
    "query_create_table = '''CREATE TABLE SAMPLE(\n",
    "                        ID INTEGER PRIMARY KEY AUTOINCREMENT,\n",
    "                        AGE INT,\n",
    "                        WORKCLASS TEXT,\n",
    "                        FNLWGT TEXT,\n",
    "                        EDUCATION TEXT,\n",
    "                        EDUCATION_NUM TEXT,\n",
    "                        MARITAL_STATUS TEXT,\n",
    "                        OCCUPATION TEXT,\n",
    "                        RELATIONSHIP TEXT,\n",
    "                        RACE TEXT,\n",
    "                        SEX TEXT,\n",
    "                        CAPITAL_GAIN TEXT,\n",
    "                        CAPITAL_LOST TEXT,\n",
    "                        HOURS_PER_WEEK TEXT,\n",
    "                        NATIVE_COUNTRY TEXT); '''\n",
    "\n",
    "connection.execute(query_create_table)"
   ]
  },
  {
   "cell_type": "code",
   "execution_count": 103,
   "metadata": {},
   "outputs": [],
   "source": [
    "insert_query = \"INSERT INTO SAMPLE( AGE, WORKCLASS, FNLWGT,EDUCATION, EDUCATION_NUM, MARITAL_STATUS, OCCUPATION, RELATIONSHIP, RACE, SEX, CAPITAL_GAIN, CAPITAL_LOST, HOURS_PER_WEEK, NATIVE_COUNTRY) VALUES (%d, '%s', '%s', '%s', '%s', '%s', '%s', '%s', '%s', '%s', '%s', '%s', '%s', '%s')\"\n",
    "\n",
    "for index, row in sqladb.iterrows():\n",
    "    connection.execute(insert_query % (row['age'], row['workclass'], row['fnlwgt'], row['education'], row['education_num'], row['marital_status'], row['occupation'], row['relationship'], row['race'], row['sex'], row['capital_gain'], row['capital_loss'], row['hours_per_week'], row['native_country']))\n",
    "\n",
    "connection.commit()"
   ]
  },
  {
   "cell_type": "code",
   "execution_count": 107,
   "metadata": {},
   "outputs": [
    {
     "name": "stdout",
     "output_type": "stream",
     "text": [
      "(1, 39, ' State-gov', '77516', ' Bachelors', '13', ' Never-married', ' Adm-clerical', ' Not-in-family', ' White', ' Male', '2174', '0', '40', ' United-States')\n",
      "(2, 50, ' Self-emp-not-inc', '83311', ' Bachelors', '13', ' Married-civ-spouse', ' Exec-managerial', ' Husband', ' White', ' Male', '0', '0', '13', ' United-States')\n",
      "(3, 38, ' Private', '215646', ' HS-grad', '9', ' Divorced', ' Handlers-cleaners', ' Not-in-family', ' White', ' Male', '0', '0', '40', ' United-States')\n",
      "(4, 53, ' Private', '234721', ' 11th', '7', ' Married-civ-spouse', ' Handlers-cleaners', ' Husband', ' Black', ' Male', '0', '0', '40', ' United-States')\n",
      "(5, 28, ' Private', '338409', ' Bachelors', '13', ' Married-civ-spouse', ' Prof-specialty', ' Wife', ' Black', ' Female', '0', '0', '40', ' Cuba')\n",
      "(6, 37, ' Private', '284582', ' Masters', '14', ' Married-civ-spouse', ' Exec-managerial', ' Wife', ' White', ' Female', '0', '0', '40', ' United-States')\n",
      "(7, 49, ' Private', '160187', ' 9th', '5', ' Married-spouse-absent', ' Other-service', ' Not-in-family', ' Black', ' Female', '0', '0', '16', ' Jamaica')\n",
      "(8, 52, ' Self-emp-not-inc', '209642', ' HS-grad', '9', ' Married-civ-spouse', ' Exec-managerial', ' Husband', ' White', ' Male', '0', '0', '45', ' United-States')\n",
      "(9, 31, ' Private', '45781', ' Masters', '14', ' Never-married', ' Prof-specialty', ' Not-in-family', ' White', ' Female', '14084', '0', '50', ' United-States')\n",
      "(10, 42, ' Private', '159449', ' Bachelors', '13', ' Married-civ-spouse', ' Exec-managerial', ' Husband', ' White', ' Male', '5178', '0', '40', ' United-States')\n"
     ]
    }
   ],
   "source": [
    "select_query = '''SELECT * FROM SAMPLE limit 10'''\n",
    "cursor = connection.execute(select_query)\n",
    "\n",
    "for row in cursor:\n",
    "    print(row)"
   ]
  },
  {
   "cell_type": "code",
   "execution_count": 108,
   "metadata": {},
   "outputs": [
    {
     "name": "stdout",
     "output_type": "stream",
     "text": [
      "(1, 39, ' State-gov', '77516', ' Bachelors', '13', ' Never-married', ' Adm-clerical', ' Not-in-family', ' White', ' Male', '2174', '0', '40', ' United-States')\n",
      "(2, 50, ' Self-emp-not-inc', '83311', ' Bachelors', '13', ' Married-civ-spouse', ' Exec-managerial', ' Husband', ' White', ' Male', '0', '0', '13', ' United-States')\n",
      "(3, 38, ' Private', '215646', ' HS-grad', '9', ' Divorced', ' Handlers-cleaners', ' Not-in-family', ' White', ' Male', '0', '0', '40', ' United-States')\n",
      "(4, 45, ' Private', '234721', ' 11th', '7', ' Married-civ-spouse', ' Handlers-cleaners', ' Husband', ' Black', ' Male', '0', '0', '40', ' United-States')\n",
      "(5, 28, ' Private', '338409', ' Bachelors', '13', ' Married-civ-spouse', ' Prof-specialty', ' Wife', ' Black', ' Female', '0', '0', '40', ' Cuba')\n",
      "(6, 37, ' Private', '284582', ' Masters', '14', ' Married-civ-spouse', ' Exec-managerial', ' Wife', ' White', ' Female', '0', '0', '40', ' United-States')\n",
      "(7, 49, ' Private', '160187', ' 9th', '5', ' Married-spouse-absent', ' Other-service', ' Not-in-family', ' Black', ' Female', '0', '0', '16', ' Jamaica')\n",
      "(8, 52, ' Self-emp-not-inc', '209642', ' HS-grad', '54', ' Married-civ-spouse', ' Exec-managerial', ' Husband', ' White', ' Male', '0', '0', '45', ' United-States')\n",
      "(9, 31, ' Private', '45781', ' Masters', '14', ' Never-married', ' Prof-specialty', ' Not-in-family', ' White', ' Female', '14084', '0', '50', ' United-States')\n",
      "(10, 42, ' Private', '159449', ' Bachelors', '13', ' Married-civ-spouse', ' Exec-managerial', ' Husband', ' White', ' Male', '5178', '0', '40', ' United-States')\n"
     ]
    }
   ],
   "source": [
    "update_query_1='''update SAMPLE set AGE=45 WHERE ID=4'''\n",
    "connection.execute(update_query_1)\n",
    "\n",
    "update_query_2='''update SAMPLE set education_num=54 where ID=8'''\n",
    "connection.execute(update_query_2)\n",
    "\n",
    "select_query = '''SELECT * FROM SAMPLE limit 10'''\n",
    "cursor = connection.execute(select_query)\n",
    "\n",
    "for row in cursor:\n",
    "    print(row)"
   ]
  },
  {
   "cell_type": "code",
   "execution_count": 109,
   "metadata": {},
   "outputs": [
    {
     "name": "stdout",
     "output_type": "stream",
     "text": [
      "(1, 39, ' State-gov', '77516', ' Bachelors', '13', ' Never-married', ' Adm-clerical', ' Not-in-family', ' White', ' Male', '2174', '0', '40', ' United-States')\n",
      "(2, 50, ' Self-emp-not-inc', '83311', ' Bachelors', '13', ' Married-civ-spouse', ' Exec-managerial', ' Husband', ' White', ' Male', '0', '0', '13', ' United-States')\n",
      "(3, 38, ' Private', '215646', ' HS-grad', '9', ' Divorced', ' Handlers-cleaners', ' Not-in-family', ' White', ' Male', '0', '0', '40', ' United-States')\n",
      "(5, 28, ' Private', '338409', ' Bachelors', '13', ' Married-civ-spouse', ' Prof-specialty', ' Wife', ' Black', ' Female', '0', '0', '40', ' Cuba')\n",
      "(7, 49, ' Private', '160187', ' 9th', '5', ' Married-spouse-absent', ' Other-service', ' Not-in-family', ' Black', ' Female', '0', '0', '16', ' Jamaica')\n",
      "(8, 52, ' Self-emp-not-inc', '209642', ' HS-grad', '54', ' Married-civ-spouse', ' Exec-managerial', ' Husband', ' White', ' Male', '0', '0', '45', ' United-States')\n",
      "(9, 31, ' Private', '45781', ' Masters', '14', ' Never-married', ' Prof-specialty', ' Not-in-family', ' White', ' Female', '14084', '0', '50', ' United-States')\n",
      "(10, 42, ' Private', '159449', ' Bachelors', '13', ' Married-civ-spouse', ' Exec-managerial', ' Husband', ' White', ' Male', '5178', '0', '40', ' United-States')\n",
      "(12, 30, ' State-gov', '141297', ' Bachelors', '13', ' Married-civ-spouse', ' Prof-specialty', ' Husband', ' Asian-Pac-Islander', ' Male', '0', '0', '40', ' India')\n",
      "(13, 23, ' Private', '122272', ' Bachelors', '13', ' Never-married', ' Adm-clerical', ' Own-child', ' White', ' Female', '0', '0', '30', ' United-States')\n"
     ]
    }
   ],
   "source": [
    "delete_query_1='''delete from SAMPLE where ID=6'''\n",
    "connection.execute(delete_query_1)\n",
    "\n",
    "delete_query_2=\"delete from SAMPLE where RELATIONSHIP=' Husband' and RACE=' Black' and NATIVE_COUNTRY=' United-States'\" \n",
    "connection.execute(delete_query_2)\n",
    "\n",
    "select_query = '''SELECT * FROM SAMPLE limit 10'''\n",
    "cursor = connection.execute(select_query)\n",
    "\n",
    "for row in cursor:\n",
    "    print(row)"
   ]
  },
  {
   "cell_type": "code",
   "execution_count": 110,
   "metadata": {},
   "outputs": [
    {
     "name": "stdout",
     "output_type": "stream",
     "text": [
      "(5, 28, ' Private', '338409', ' Bachelors', '13', ' Married-civ-spouse', ' Prof-specialty', ' Wife', ' Black', ' Female', '0', '0', '40', ' Cuba')\n",
      "(7, 49, ' Private', '160187', ' 9th', '5', ' Married-spouse-absent', ' Other-service', ' Not-in-family', ' Black', ' Female', '0', '0', '16', ' Jamaica')\n",
      "(14, 32, ' Private', '205019', ' Assoc-acdm', '12', ' Never-married', ' Sales', ' Not-in-family', ' Black', ' Male', '0', '0', '50', ' United-States')\n",
      "(22, 54, ' Private', '302146', ' HS-grad', '9', ' Separated', ' Other-service', ' Unmarried', ' Black', ' Female', '0', '0', '20', ' United-States')\n",
      "(32, 20, ' Private', '266015', ' Some-college', '10', ' Never-married', ' Sales', ' Own-child', ' Black', ' Male', '0', '0', '44', ' United-States')\n",
      "(72, 31, ' Private', '309974', ' Bachelors', '13', ' Separated', ' Sales', ' Own-child', ' Black', ' Female', '0', '0', '40', ' United-States')\n",
      "(93, 28, ' Private', '212563', ' Some-college', '10', ' Divorced', ' Machine-op-inspct', ' Unmarried', ' Black', ' Female', '0', '0', '25', ' United-States')\n",
      "(100, 32, ' Federal-gov', '249409', ' HS-grad', '9', ' Never-married', ' Other-service', ' Own-child', ' Black', ' Male', '0', '0', '40', ' United-States')\n",
      "(123, 30, ' Private', '77143', ' Bachelors', '13', ' Never-married', ' Exec-managerial', ' Own-child', ' Black', ' Male', '0', '0', '40', ' Germany')\n",
      "(125, 19, ' Private', '301606', ' Some-college', '10', ' Never-married', ' Other-service', ' Own-child', ' Black', ' Male', '0', '0', '35', ' United-States')\n"
     ]
    }
   ],
   "source": [
    "filter_query_1=\"select * from SAMPLE where RACE=' Black' limit 10\"\n",
    "cursor = connection.execute(filter_query_1)\n",
    "\n",
    "for row in cursor:\n",
    "    print(row)"
   ]
  },
  {
   "cell_type": "code",
   "execution_count": 111,
   "metadata": {},
   "outputs": [
    {
     "name": "stdout",
     "output_type": "stream",
     "text": [
      "(5, 28, ' Private', '338409', ' Bachelors', '13', ' Married-civ-spouse', ' Prof-specialty', ' Wife', ' Black', ' Female', '0', '0', '40', ' Cuba')\n",
      "(32, 20, ' Private', '266015', ' Some-college', '10', ' Never-married', ' Sales', ' Own-child', ' Black', ' Male', '0', '0', '44', ' United-States')\n",
      "(93, 28, ' Private', '212563', ' Some-college', '10', ' Divorced', ' Machine-op-inspct', ' Unmarried', ' Black', ' Female', '0', '0', '25', ' United-States')\n",
      "(125, 19, ' Private', '301606', ' Some-college', '10', ' Never-married', ' Other-service', ' Own-child', ' Black', ' Male', '0', '0', '35', ' United-States')\n",
      "(177, 21, ' Private', '312956', ' HS-grad', '9', ' Never-married', ' Craft-repair', ' Own-child', ' Black', ' Male', '0', '0', '40', ' United-States')\n",
      "(295, 27, ' Private', '248402', ' Bachelors', '13', ' Never-married', ' Tech-support', ' Unmarried', ' Black', ' Female', '0', '0', '40', ' United-States')\n",
      "(313, 19, ' ?', '860348', ' Some-college', '10', ' Never-married', ' ?', ' Own-child', ' Black', ' Female', '0', '0', '25', ' United-States')\n",
      "(327, 23, ' ?', '211601', ' Assoc-voc', '11', ' Never-married', ' ?', ' Own-child', ' Black', ' Female', '0', '0', '15', ' United-States')\n",
      "(339, 19, ' Private', '104112', ' HS-grad', '9', ' Never-married', ' Sales', ' Unmarried', ' Black', ' Male', '0', '0', '30', ' Haiti')\n",
      "(345, 22, ' State-gov', '293364', ' Some-college', '10', ' Never-married', ' Protective-serv', ' Own-child', ' Black', ' Female', '0', '0', '40', ' United-States')\n"
     ]
    }
   ],
   "source": [
    "filter_query_1=\"select * from SAMPLE where RACE=' Black' and AGE<30 limit 10\"\n",
    "cursor = connection.execute(filter_query_1)\n",
    "\n",
    "for row in cursor:\n",
    "    print(row)"
   ]
  },
  {
   "cell_type": "code",
   "execution_count": 112,
   "metadata": {},
   "outputs": [
    {
     "name": "stdout",
     "output_type": "stream",
     "text": [
      "(' ?', 583)\n",
      "(' Cambodia', 19)\n",
      "(' Canada', 121)\n",
      "(' China', 75)\n",
      "(' Columbia', 59)\n",
      "(' Cuba', 95)\n",
      "(' Dominican-Republic', 70)\n",
      "(' Ecuador', 28)\n",
      "(' El-Salvador', 106)\n",
      "(' England', 90)\n",
      "(' France', 29)\n",
      "(' Germany', 137)\n",
      "(' Greece', 29)\n",
      "(' Guatemala', 64)\n",
      "(' Haiti', 44)\n",
      "(' Holand-Netherlands', 1)\n",
      "(' Honduras', 13)\n",
      "(' Hong', 20)\n",
      "(' Hungary', 13)\n",
      "(' India', 100)\n",
      "(' Iran', 43)\n",
      "(' Ireland', 24)\n",
      "(' Italy', 73)\n",
      "(' Jamaica', 81)\n",
      "(' Japan', 62)\n",
      "(' Laos', 18)\n",
      "(' Mexico', 643)\n",
      "(' Nicaragua', 34)\n",
      "(' Outlying-US(Guam-USVI-etc)', 14)\n",
      "(' Peru', 31)\n",
      "(' Philippines', 198)\n",
      "(' Poland', 60)\n",
      "(' Portugal', 37)\n",
      "(' Puerto-Rico', 114)\n",
      "(' Scotland', 12)\n",
      "(' South', 80)\n",
      "(' Taiwan', 51)\n",
      "(' Thailand', 18)\n",
      "(' Trinadad&Tobago', 19)\n",
      "(' United-States', 28568)\n",
      "(' Vietnam', 67)\n",
      "(' Yugoslavia', 16)\n"
     ]
    }
   ],
   "source": [
    "function_query_1=\"select NATIVE_COUNTRY, COUNT(1) FROM SAMPLE group by NATIVE_COUNTRY\"\n",
    "cursor = connection.execute(function_query_1)\n",
    "\n",
    "for row in cursor:\n",
    "    print(row)"
   ]
  },
  {
   "cell_type": "code",
   "execution_count": 113,
   "metadata": {},
   "outputs": [
    {
     "name": "stdout",
     "output_type": "stream",
     "text": [
      "(' ?', 41.51286449399657)\n",
      "(' Cambodia', 40.89473684210526)\n",
      "(' Canada', 40.40495867768595)\n",
      "(' China', 37.78666666666667)\n",
      "(' Columbia', 39.067796610169495)\n",
      "(' Cuba', 39.1578947368421)\n",
      "(' Dominican-Republic', 42.47142857142857)\n",
      "(' Ecuador', 39.57142857142857)\n",
      "(' El-Salvador', 36.79245283018868)\n",
      "(' England', 41.833333333333336)\n",
      "(' France', 45.06896551724138)\n",
      "(' Germany', 41.01459854014598)\n",
      "(' Greece', 44.241379310344826)\n",
      "(' Guatemala', 39.234375)\n",
      "(' Haiti', 36.90909090909091)\n",
      "(' Holand-Netherlands', 40.0)\n",
      "(' Honduras', 36.30769230769231)\n",
      "(' Hong', 40.9)\n",
      "(' Hungary', 35.61538461538461)\n",
      "(' India', 41.53)\n",
      "(' Iran', 43.97674418604651)\n",
      "(' Ireland', 42.416666666666664)\n",
      "(' Italy', 41.602739726027394)\n",
      "(' Jamaica', 38.592592592592595)\n",
      "(' Japan', 43.693548387096776)\n",
      "(' Laos', 40.333333333333336)\n",
      "(' Mexico', 40.34059097978227)\n",
      "(' Nicaragua', 36.1764705882353)\n",
      "(' Outlying-US(Guam-USVI-etc)', 41.857142857142854)\n",
      "(' Peru', 35.38709677419355)\n",
      "(' Philippines', 39.5959595959596)\n",
      "(' Poland', 38.333333333333336)\n",
      "(' Portugal', 41.891891891891895)\n",
      "(' Puerto-Rico', 38.57017543859649)\n",
      "(' Scotland', 41.25)\n",
      "(' South', 42.4125)\n",
      "(' Taiwan', 38.88235294117647)\n",
      "(' Thailand', 45.44444444444444)\n",
      "(' Trinadad&Tobago', 37.36842105263158)\n",
      "(' United-States', 40.415709885186224)\n",
      "(' Vietnam', 37.343283582089555)\n",
      "(' Yugoslavia', 44.5625)\n"
     ]
    }
   ],
   "source": [
    "function_query_2=\"select NATIVE_COUNTRY, AVG(HOURS_PER_WEEK) FROM SAMPLE group by NATIVE_COUNTRY\"\n",
    "cursor = connection.execute(function_query_2)\n",
    "\n",
    "for row in cursor:\n",
    "    print(row)"
   ]
  },
  {
   "cell_type": "code",
   "execution_count": null,
   "metadata": {},
   "outputs": [],
   "source": []
  },
  {
   "cell_type": "code",
   "execution_count": null,
   "metadata": {},
   "outputs": [],
   "source": []
  }
 ],
 "metadata": {
  "kernelspec": {
   "display_name": "Python 3",
   "language": "python",
   "name": "python3"
  },
  "language_info": {
   "codemirror_mode": {
    "name": "ipython",
    "version": 3
   },
   "file_extension": ".py",
   "mimetype": "text/x-python",
   "name": "python",
   "nbconvert_exporter": "python",
   "pygments_lexer": "ipython3",
   "version": "3.6.4"
  }
 },
 "nbformat": 4,
 "nbformat_minor": 2
}
